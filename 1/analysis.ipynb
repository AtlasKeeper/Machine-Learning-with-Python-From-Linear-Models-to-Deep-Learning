{
 "cells": [
  {
   "cell_type": "code",
   "execution_count": 31,
   "id": "1643dd11-3223-409b-970b-836b53176942",
   "metadata": {},
   "outputs": [
    {
     "name": "stdout",
     "output_type": "stream",
     "text": [
      "The memory_profiler extension is already loaded. To reload it, use:\n",
      "  %reload_ext memory_profiler\n"
     ]
    }
   ],
   "source": [
    "%load_ext memory_profiler\n",
    "import pandas as pd\n",
    "import numpy as np\n",
    "from sklearn.decomposition import PCA, KernelPCA\n",
    "import time\n",
    "from memory_profiler import profile\n",
    "import matplotlib.pyplot as plt\n"
   ]
  },
  {
   "cell_type": "code",
   "execution_count": 32,
   "id": "8f85a70f-7370-431b-89d3-97795ede98e6",
   "metadata": {},
   "outputs": [],
   "source": [
    "X = np.load(\"data/p1/X.npy\")\n",
    "y = np.load(\"data/p1/y.npy\")"
   ]
  },
  {
   "cell_type": "code",
   "execution_count": 33,
   "id": "2b1ae0aa-eee1-4e7f-a197-6697e7c5801e",
   "metadata": {},
   "outputs": [
    {
     "name": "stdout",
     "output_type": "stream",
     "text": [
      "(511, 45768)\n"
     ]
    }
   ],
   "source": [
    "print(X.shape)"
   ]
  },
  {
   "cell_type": "code",
   "execution_count": 34,
   "id": "fcd0ab61-12aa-4fc1-9f71-e2fe6914b568",
   "metadata": {},
   "outputs": [
    {
     "data": {
      "text/plain": [
       "11.941397591320595"
      ]
     },
     "execution_count": 34,
     "metadata": {},
     "output_type": "execute_result"
    }
   ],
   "source": [
    "np.max(X[:,0])"
   ]
  },
  {
   "cell_type": "code",
   "execution_count": 35,
   "id": "72b4e7b5-cd70-4a1b-96d9-45a7480cf8b6",
   "metadata": {},
   "outputs": [],
   "source": [
    "# log\n",
    "X_log = np.log2(X + 1)"
   ]
  },
  {
   "cell_type": "code",
   "execution_count": 36,
   "id": "3918c3fc-242a-4e98-acaf-86d3a0e043a6",
   "metadata": {},
   "outputs": [
    {
     "name": "stdout",
     "output_type": "stream",
     "text": [
      "3.6939215228197613\n"
     ]
    }
   ],
   "source": [
    "# Largest entry of first column\n",
    "print(np.max(X_log[:,0]))"
   ]
  },
  {
   "cell_type": "code",
   "execution_count": 37,
   "id": "9e1b8c6c-c130-41ee-87e1-ed7eda47eabf",
   "metadata": {},
   "outputs": [
    {
     "name": "stdout",
     "output_type": "stream",
     "text": [
      "peak memory: 1712.36 MiB, increment: 535.26 MiB\n",
      "4.64 s ± 0 ns per loop (mean ± std. dev. of 1 run, 1 loop each)\n"
     ]
    }
   ],
   "source": [
    "%%timeit -n 1 -r 1\n",
    "%%memit -r 1\n",
    "pca =  PCA().fit(X)\n",
    "pca_log = PCA().fit(X_log)"
   ]
  },
  {
   "cell_type": "code",
   "execution_count": 38,
   "id": "eaf5de75-4863-4550-a2ee-0ee6219305a9",
   "metadata": {},
   "outputs": [
    {
     "name": "stdout",
     "output_type": "stream",
     "text": [
      "First component raw: 0.42779670983572776\n",
      "First component log: 0.13887564870826172\n"
     ]
    }
   ],
   "source": [
    "# percentage of variance explained by first component\n",
    "print(\"First component raw:\", pca.explained_variance_ratio_[0])\n",
    "print(\"First component log:\", pca_log.explained_variance_ratio_[0])"
   ]
  },
  {
   "cell_type": "code",
   "execution_count": 39,
   "id": "923d6023-c568-44cf-909a-2bc37c784b34",
   "metadata": {},
   "outputs": [
    {
     "data": {
      "image/png": "[encoded data removed]",
      "text/plain": [
       "<Figure size 640x480 with 1 Axes>"
      ]
     },
     "metadata": {},
     "output_type": "display_data"
    }
   ],
   "source": [
    "# cumalative variance explained plots\n",
    "plt.plot(range(1, X.shape[0]+1), np.cumsum(pca.explained_variance_ratio_),  color=\"red\", label=\"raw\")\n",
    "plt.plot(range(1, X.shape[0]+1), np.cumsum(pca_log.explained_variance_ratio_), color=\"blue\", label=\"log\")\n",
    "plt.legend()\n",
    "plt.show()"
   ]
  },
  {
   "cell_type": "code",
   "execution_count": 43,
   "id": "9856b29a-7e80-4ae1-9617-0309e3d3ebbe",
   "metadata": {},
   "outputs": [
    {
     "name": "stdout",
     "output_type": "stream",
     "text": [
      "Raw: 36\n",
      "Log: 339\n"
     ]
    }
   ],
   "source": [
    "# 85% variance cutoffs\n",
    "print(\"Raw:\", np.where(np.cumsum(pca.explained_variance_ratio_) >= .85)[0][0] + 1)\n",
    "print(\"Log:\", np.where(np.cumsum(pca_log.explained_variance_ratio_) >= .85)[0][0] + 1)"
   ]
  }
 ],
 "metadata": {
  "kernelspec": {
   "display_name": "Python 3 (ipykernel)",
   "language": "python",
   "name": "python3"
  },
  "language_info": {
   "codemirror_mode": {
    "name": "ipython",
    "version": 3
   },
   "file_extension": ".py",
   "mimetype": "text/x-python",
   "name": "python",
   "nbconvert_exporter": "python",
   "pygments_lexer": "ipython3",
   "version": "3.12.3"
  }
 },
 "nbformat": 4,
 "nbformat_minor": 5
}
